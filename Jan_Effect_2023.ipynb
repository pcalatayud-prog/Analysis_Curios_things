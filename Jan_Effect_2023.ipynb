{
 "cells": [
  {
   "cell_type": "markdown",
   "id": "ce72d138",
   "metadata": {},
   "source": [
    "# 0. Libraries."
   ]
  },
  {
   "cell_type": "code",
   "execution_count": 1,
   "id": "5735167a",
   "metadata": {},
   "outputs": [
    {
     "data": {
      "text/html": [
       "        <script type=\"text/javascript\">\n",
       "        window.PlotlyConfig = {MathJaxConfig: 'local'};\n",
       "        if (window.MathJax) {MathJax.Hub.Config({SVG: {font: \"STIX-Web\"}});}\n",
       "        if (typeof require !== 'undefined') {\n",
       "        require.undef(\"plotly\");\n",
       "        requirejs.config({\n",
       "            paths: {\n",
       "                'plotly': ['https://cdn.plot.ly/plotly-2.8.3.min']\n",
       "            }\n",
       "        });\n",
       "        require(['plotly'], function(Plotly) {\n",
       "            window._Plotly = Plotly;\n",
       "        });\n",
       "        }\n",
       "        </script>\n",
       "        "
      ]
     },
     "metadata": {},
     "output_type": "display_data"
    }
   ],
   "source": [
    "#Importing Required Libraries\n",
    "import pandas as pd\n",
    "import numpy as np\n",
    "import yfinance as yf\n",
    "import matplotlib.pyplot as plt\n",
    "import cufflinks as cf\n",
    "from pandas_datareader import data\n",
    "from pandas.tseries.frequencies import to_offset\n",
    "import csv\n",
    "from scipy.optimize import brute\n",
    "plt.style.use(\"seaborn\")\n",
    "from matplotlib import pyplot"
   ]
  },
  {
   "cell_type": "markdown",
   "id": "37bedb86",
   "metadata": {},
   "source": [
    "# 1. Constants."
   ]
  },
  {
   "cell_type": "code",
   "execution_count": 2,
   "id": "79cb7adc",
   "metadata": {},
   "outputs": [],
   "source": [
    "#training\n",
    "start='1999-12-31'\n",
    "end='2022-12-31'\n",
    "\n",
    "nasdaq_performance_2023=0.1121"
   ]
  },
  {
   "cell_type": "markdown",
   "id": "399ade2c",
   "metadata": {},
   "source": [
    "# 2. Data "
   ]
  },
  {
   "cell_type": "code",
   "execution_count": 3,
   "id": "63ed1e60",
   "metadata": {},
   "outputs": [
    {
     "name": "stdout",
     "output_type": "stream",
     "text": [
      "[*********************100%***********************]  1 of 1 completed\n"
     ]
    }
   ],
   "source": [
    "df_daily = yf.download(\"^NDX\", start = start, end = end)"
   ]
  },
  {
   "cell_type": "code",
   "execution_count": 4,
   "id": "cc9efc8f",
   "metadata": {},
   "outputs": [
    {
     "data": {
      "text/html": [
       "<div>\n",
       "<style scoped>\n",
       "    .dataframe tbody tr th:only-of-type {\n",
       "        vertical-align: middle;\n",
       "    }\n",
       "\n",
       "    .dataframe tbody tr th {\n",
       "        vertical-align: top;\n",
       "    }\n",
       "\n",
       "    .dataframe thead th {\n",
       "        text-align: right;\n",
       "    }\n",
       "</style>\n",
       "<table border=\"1\" class=\"dataframe\">\n",
       "  <thead>\n",
       "    <tr style=\"text-align: right;\">\n",
       "      <th></th>\n",
       "      <th>Open</th>\n",
       "      <th>High</th>\n",
       "      <th>Low</th>\n",
       "      <th>Close</th>\n",
       "      <th>Adj Close</th>\n",
       "      <th>Volume</th>\n",
       "    </tr>\n",
       "    <tr>\n",
       "      <th>Date</th>\n",
       "      <th></th>\n",
       "      <th></th>\n",
       "      <th></th>\n",
       "      <th></th>\n",
       "      <th></th>\n",
       "      <th></th>\n",
       "    </tr>\n",
       "  </thead>\n",
       "  <tbody>\n",
       "    <tr>\n",
       "      <th>2022-12-29</th>\n",
       "      <td>10800.799805</td>\n",
       "      <td>10981.059570</td>\n",
       "      <td>10776.620117</td>\n",
       "      <td>10951.049805</td>\n",
       "      <td>10951.049805</td>\n",
       "      <td>4154100000</td>\n",
       "    </tr>\n",
       "    <tr>\n",
       "      <th>2022-12-30</th>\n",
       "      <td>10835.589844</td>\n",
       "      <td>10942.900391</td>\n",
       "      <td>10778.639648</td>\n",
       "      <td>10939.759766</td>\n",
       "      <td>10939.759766</td>\n",
       "      <td>3959030000</td>\n",
       "    </tr>\n",
       "  </tbody>\n",
       "</table>\n",
       "</div>"
      ],
      "text/plain": [
       "                    Open          High           Low         Close  \\\n",
       "Date                                                                 \n",
       "2022-12-29  10800.799805  10981.059570  10776.620117  10951.049805   \n",
       "2022-12-30  10835.589844  10942.900391  10778.639648  10939.759766   \n",
       "\n",
       "               Adj Close      Volume  \n",
       "Date                                  \n",
       "2022-12-29  10951.049805  4154100000  \n",
       "2022-12-30  10939.759766  3959030000  "
      ]
     },
     "execution_count": 4,
     "metadata": {},
     "output_type": "execute_result"
    }
   ],
   "source": [
    "df_daily.tail(2)"
   ]
  },
  {
   "cell_type": "code",
   "execution_count": 5,
   "id": "4b86e007",
   "metadata": {},
   "outputs": [],
   "source": [
    "current_price = df_daily.iloc[-1].Close"
   ]
  },
  {
   "cell_type": "markdown",
   "id": "cf675779",
   "metadata": {},
   "source": [
    "## 2.1. Resample Monthly."
   ]
  },
  {
   "cell_type": "code",
   "execution_count": 6,
   "id": "38d3f000",
   "metadata": {},
   "outputs": [
    {
     "name": "stdout",
     "output_type": "stream",
     "text": [
      "[*********************100%***********************]  1 of 1 completed\n"
     ]
    }
   ],
   "source": [
    "df_month = yf.download(\"^NDX\", start = start, end = end, interval=\"1mo\")\n",
    "df_month = df_month.drop([\"High\",\"Low\",\"Volume\",\"Adj Close\"],axis=1)"
   ]
  },
  {
   "cell_type": "code",
   "execution_count": 7,
   "id": "c0129141",
   "metadata": {},
   "outputs": [],
   "source": [
    "df_month[\"return_jan\"] = (df_month.Close-df_month.Open)/df_month.Open\n",
    "#df_month=df_month.dropna()"
   ]
  },
  {
   "cell_type": "code",
   "execution_count": 8,
   "id": "fbf067dc",
   "metadata": {},
   "outputs": [],
   "source": [
    "df_month_january = df_month[df_month.index.month==1]"
   ]
  },
  {
   "cell_type": "code",
   "execution_count": 9,
   "id": "c38f2640",
   "metadata": {},
   "outputs": [],
   "source": [
    "df_month_january.index=df_month_january.index.year"
   ]
  },
  {
   "cell_type": "code",
   "execution_count": 10,
   "id": "320ef967",
   "metadata": {
    "scrolled": true
   },
   "outputs": [],
   "source": [
    "df_month_january.rename(columns={\"Open\":\"Open_Jan\",\"Close\":\"Close_Jan\"},inplace=True)"
   ]
  },
  {
   "cell_type": "code",
   "execution_count": 11,
   "id": "bf0f12e5",
   "metadata": {},
   "outputs": [
    {
     "data": {
      "text/html": [
       "<div>\n",
       "<style scoped>\n",
       "    .dataframe tbody tr th:only-of-type {\n",
       "        vertical-align: middle;\n",
       "    }\n",
       "\n",
       "    .dataframe tbody tr th {\n",
       "        vertical-align: top;\n",
       "    }\n",
       "\n",
       "    .dataframe thead th {\n",
       "        text-align: right;\n",
       "    }\n",
       "</style>\n",
       "<table border=\"1\" class=\"dataframe\">\n",
       "  <thead>\n",
       "    <tr style=\"text-align: right;\">\n",
       "      <th></th>\n",
       "      <th>Open_Jan</th>\n",
       "      <th>Close_Jan</th>\n",
       "      <th>return_jan</th>\n",
       "    </tr>\n",
       "    <tr>\n",
       "      <th>Date</th>\n",
       "      <th></th>\n",
       "      <th></th>\n",
       "      <th></th>\n",
       "    </tr>\n",
       "  </thead>\n",
       "  <tbody>\n",
       "    <tr>\n",
       "      <th>2000</th>\n",
       "      <td>3755.739990</td>\n",
       "      <td>3570.050049</td>\n",
       "      <td>-0.049442</td>\n",
       "    </tr>\n",
       "    <tr>\n",
       "      <th>2001</th>\n",
       "      <td>2341.280029</td>\n",
       "      <td>2593.000000</td>\n",
       "      <td>0.107514</td>\n",
       "    </tr>\n",
       "    <tr>\n",
       "      <th>2002</th>\n",
       "      <td>1590.709961</td>\n",
       "      <td>1550.170044</td>\n",
       "      <td>-0.025485</td>\n",
       "    </tr>\n",
       "    <tr>\n",
       "      <th>2003</th>\n",
       "      <td>995.640015</td>\n",
       "      <td>983.049988</td>\n",
       "      <td>-0.012645</td>\n",
       "    </tr>\n",
       "    <tr>\n",
       "      <th>2004</th>\n",
       "      <td>1474.160034</td>\n",
       "      <td>1493.079956</td>\n",
       "      <td>0.012834</td>\n",
       "    </tr>\n",
       "  </tbody>\n",
       "</table>\n",
       "</div>"
      ],
      "text/plain": [
       "         Open_Jan    Close_Jan  return_jan\n",
       "Date                                      \n",
       "2000  3755.739990  3570.050049   -0.049442\n",
       "2001  2341.280029  2593.000000    0.107514\n",
       "2002  1590.709961  1550.170044   -0.025485\n",
       "2003   995.640015   983.049988   -0.012645\n",
       "2004  1474.160034  1493.079956    0.012834"
      ]
     },
     "execution_count": 11,
     "metadata": {},
     "output_type": "execute_result"
    }
   ],
   "source": [
    "df_month_january.head(5)"
   ]
  },
  {
   "cell_type": "markdown",
   "id": "b7c89000",
   "metadata": {},
   "source": [
    "## 2.2. Resample Yearly."
   ]
  },
  {
   "cell_type": "code",
   "execution_count": 12,
   "id": "4fb88f97",
   "metadata": {},
   "outputs": [],
   "source": [
    "df_yearly = pd.DataFrame()\n",
    "df_yearly[\"Open\"] = df_month.resample(\"Y\").first().Open\n",
    "df_yearly[\"Close\"] = df_month.resample(\"Y\").last().Close\n",
    "#df_yearly.index = df_yearly.index.year\n",
    "df_yearly[\"return_Yearly\"]=(df_yearly.Close-df_yearly.Open)/df_yearly.Open\n",
    "#df_yearly.index=df_yearly.year\n",
    "df_yearly.rename(columns={\"Open\":\"Open_Yearly\",\"Close\":\"Close_Yearly\"},inplace=True)"
   ]
  },
  {
   "cell_type": "markdown",
   "id": "5f164605",
   "metadata": {},
   "source": [
    "# 2.3. Time Series Plot"
   ]
  },
  {
   "cell_type": "code",
   "execution_count": 13,
   "id": "b4d47d7c",
   "metadata": {},
   "outputs": [
    {
     "data": {
      "image/png": "[encoded data removed]",
      "text/plain": [
       "<Figure size 1080x720 with 1 Axes>"
      ]
     },
     "metadata": {},
     "output_type": "display_data"
    }
   ],
   "source": [
    "plt.figure(figsize=(15,10))\n",
    "    \n",
    "plt.plot(df_yearly.index,df_yearly.Close_Yearly,linewidth=1.5,color=\"r\",label=\"Yearly\",marker=\"o\")\n",
    "\n",
    "plt.plot(df_month.index,df_month.Close,linewidth=1.5,color=\"b\",label=\"Monthly\")\n",
    "\n",
    "#plt.axhline(y = 1, color = 'r', linestyle = '--')\n",
    "\n",
    "plt.title(\"Nasdaq Index. Data extracted from Yahoo Finance.\",fontsize=20)\n",
    "\n",
    "#plt.xlabel('Dates',fontsize=20)\n",
    "\n",
    "plt.xticks(df_yearly.index,fontsize=12,rotation=90)\n",
    "\n",
    "plt.ylabel('Nasdaq',fontsize=20)\n",
    "\n",
    "pyplot.yscale('log')\n",
    "\n",
    "plt.legend(fontsize=18,loc='upper left')\n",
    "\n",
    "plt.grid()\n",
    "\n",
    "plt.show()"
   ]
  },
  {
   "cell_type": "markdown",
   "id": "d4cbe99b",
   "metadata": {},
   "source": [
    "# 2.4. Data Integration"
   ]
  },
  {
   "cell_type": "code",
   "execution_count": 14,
   "id": "b27ba9ba",
   "metadata": {},
   "outputs": [],
   "source": [
    "df_yearly.index=df_yearly.index.year"
   ]
  },
  {
   "cell_type": "code",
   "execution_count": 15,
   "id": "7b83ee97",
   "metadata": {},
   "outputs": [],
   "source": [
    "df = df_yearly.join(df_month_january)"
   ]
  },
  {
   "cell_type": "code",
   "execution_count": 16,
   "id": "960e88a4",
   "metadata": {
    "scrolled": false
   },
   "outputs": [
    {
     "data": {
      "text/html": [
       "<div>\n",
       "<style scoped>\n",
       "    .dataframe tbody tr th:only-of-type {\n",
       "        vertical-align: middle;\n",
       "    }\n",
       "\n",
       "    .dataframe tbody tr th {\n",
       "        vertical-align: top;\n",
       "    }\n",
       "\n",
       "    .dataframe thead th {\n",
       "        text-align: right;\n",
       "    }\n",
       "</style>\n",
       "<table border=\"1\" class=\"dataframe\">\n",
       "  <thead>\n",
       "    <tr style=\"text-align: right;\">\n",
       "      <th></th>\n",
       "      <th>Open_Yearly</th>\n",
       "      <th>Close_Yearly</th>\n",
       "      <th>return_Yearly</th>\n",
       "      <th>Open_Jan</th>\n",
       "      <th>Close_Jan</th>\n",
       "      <th>return_jan</th>\n",
       "    </tr>\n",
       "    <tr>\n",
       "      <th>Date</th>\n",
       "      <th></th>\n",
       "      <th></th>\n",
       "      <th></th>\n",
       "      <th></th>\n",
       "      <th></th>\n",
       "      <th></th>\n",
       "    </tr>\n",
       "  </thead>\n",
       "  <tbody>\n",
       "    <tr>\n",
       "      <th>2000</th>\n",
       "      <td>3755.739990</td>\n",
       "      <td>2341.699951</td>\n",
       "      <td>-0.376501</td>\n",
       "      <td>3755.739990</td>\n",
       "      <td>3570.050049</td>\n",
       "      <td>-0.049442</td>\n",
       "    </tr>\n",
       "    <tr>\n",
       "      <th>2001</th>\n",
       "      <td>2341.280029</td>\n",
       "      <td>1577.050049</td>\n",
       "      <td>-0.326415</td>\n",
       "      <td>2341.280029</td>\n",
       "      <td>2593.000000</td>\n",
       "      <td>0.107514</td>\n",
       "    </tr>\n",
       "    <tr>\n",
       "      <th>2002</th>\n",
       "      <td>1590.709961</td>\n",
       "      <td>984.369995</td>\n",
       "      <td>-0.381176</td>\n",
       "      <td>1590.709961</td>\n",
       "      <td>1550.170044</td>\n",
       "      <td>-0.025485</td>\n",
       "    </tr>\n",
       "    <tr>\n",
       "      <th>2003</th>\n",
       "      <td>995.640015</td>\n",
       "      <td>1467.920044</td>\n",
       "      <td>0.474348</td>\n",
       "      <td>995.640015</td>\n",
       "      <td>983.049988</td>\n",
       "      <td>-0.012645</td>\n",
       "    </tr>\n",
       "    <tr>\n",
       "      <th>2004</th>\n",
       "      <td>1474.160034</td>\n",
       "      <td>1621.119995</td>\n",
       "      <td>0.099691</td>\n",
       "      <td>1474.160034</td>\n",
       "      <td>1493.079956</td>\n",
       "      <td>0.012834</td>\n",
       "    </tr>\n",
       "    <tr>\n",
       "      <th>2005</th>\n",
       "      <td>1628.750000</td>\n",
       "      <td>1645.199951</td>\n",
       "      <td>0.010100</td>\n",
       "      <td>1628.750000</td>\n",
       "      <td>1519.630005</td>\n",
       "      <td>-0.066996</td>\n",
       "    </tr>\n",
       "    <tr>\n",
       "      <th>2006</th>\n",
       "      <td>1654.390015</td>\n",
       "      <td>1756.900024</td>\n",
       "      <td>0.061962</td>\n",
       "      <td>1654.390015</td>\n",
       "      <td>1710.750000</td>\n",
       "      <td>0.034067</td>\n",
       "    </tr>\n",
       "    <tr>\n",
       "      <th>2007</th>\n",
       "      <td>1769.219971</td>\n",
       "      <td>2084.929932</td>\n",
       "      <td>0.178446</td>\n",
       "      <td>1769.219971</td>\n",
       "      <td>1792.280029</td>\n",
       "      <td>0.013034</td>\n",
       "    </tr>\n",
       "    <tr>\n",
       "      <th>2008</th>\n",
       "      <td>2085.530029</td>\n",
       "      <td>1211.650024</td>\n",
       "      <td>-0.419021</td>\n",
       "      <td>2085.530029</td>\n",
       "      <td>1841.420044</td>\n",
       "      <td>-0.117049</td>\n",
       "    </tr>\n",
       "    <tr>\n",
       "      <th>2009</th>\n",
       "      <td>1212.739990</td>\n",
       "      <td>1860.310059</td>\n",
       "      <td>0.533973</td>\n",
       "      <td>1212.739990</td>\n",
       "      <td>1180.250000</td>\n",
       "      <td>-0.026791</td>\n",
       "    </tr>\n",
       "    <tr>\n",
       "      <th>2010</th>\n",
       "      <td>1882.689941</td>\n",
       "      <td>2217.860107</td>\n",
       "      <td>0.178027</td>\n",
       "      <td>1882.689941</td>\n",
       "      <td>1741.040039</td>\n",
       "      <td>-0.075238</td>\n",
       "    </tr>\n",
       "    <tr>\n",
       "      <th>2011</th>\n",
       "      <td>2238.659912</td>\n",
       "      <td>2277.830078</td>\n",
       "      <td>0.017497</td>\n",
       "      <td>2238.659912</td>\n",
       "      <td>2281.909912</td>\n",
       "      <td>0.019320</td>\n",
       "    </tr>\n",
       "    <tr>\n",
       "      <th>2012</th>\n",
       "      <td>2323.159912</td>\n",
       "      <td>2660.929932</td>\n",
       "      <td>0.145392</td>\n",
       "      <td>2323.159912</td>\n",
       "      <td>2467.949951</td>\n",
       "      <td>0.062325</td>\n",
       "    </tr>\n",
       "    <tr>\n",
       "      <th>2013</th>\n",
       "      <td>2727.669922</td>\n",
       "      <td>3592.000000</td>\n",
       "      <td>0.316875</td>\n",
       "      <td>2727.669922</td>\n",
       "      <td>2731.530029</td>\n",
       "      <td>0.001415</td>\n",
       "    </tr>\n",
       "    <tr>\n",
       "      <th>2014</th>\n",
       "      <td>3575.600098</td>\n",
       "      <td>4236.279785</td>\n",
       "      <td>0.184774</td>\n",
       "      <td>3575.600098</td>\n",
       "      <td>3521.919922</td>\n",
       "      <td>-0.015013</td>\n",
       "    </tr>\n",
       "    <tr>\n",
       "      <th>2015</th>\n",
       "      <td>4258.600098</td>\n",
       "      <td>4593.270020</td>\n",
       "      <td>0.078587</td>\n",
       "      <td>4258.600098</td>\n",
       "      <td>4148.430176</td>\n",
       "      <td>-0.025870</td>\n",
       "    </tr>\n",
       "    <tr>\n",
       "      <th>2016</th>\n",
       "      <td>4485.060059</td>\n",
       "      <td>4863.620117</td>\n",
       "      <td>0.084405</td>\n",
       "      <td>4485.060059</td>\n",
       "      <td>4279.169922</td>\n",
       "      <td>-0.045906</td>\n",
       "    </tr>\n",
       "    <tr>\n",
       "      <th>2017</th>\n",
       "      <td>4900.850098</td>\n",
       "      <td>6396.419922</td>\n",
       "      <td>0.305165</td>\n",
       "      <td>4900.850098</td>\n",
       "      <td>5116.770020</td>\n",
       "      <td>0.044058</td>\n",
       "    </tr>\n",
       "    <tr>\n",
       "      <th>2018</th>\n",
       "      <td>6431.589844</td>\n",
       "      <td>6329.970215</td>\n",
       "      <td>-0.015800</td>\n",
       "      <td>6431.589844</td>\n",
       "      <td>6949.990234</td>\n",
       "      <td>0.080602</td>\n",
       "    </tr>\n",
       "    <tr>\n",
       "      <th>2019</th>\n",
       "      <td>6198.680176</td>\n",
       "      <td>8733.070312</td>\n",
       "      <td>0.408860</td>\n",
       "      <td>6198.680176</td>\n",
       "      <td>6906.839844</td>\n",
       "      <td>0.114244</td>\n",
       "    </tr>\n",
       "    <tr>\n",
       "      <th>2020</th>\n",
       "      <td>8802.219727</td>\n",
       "      <td>12888.280273</td>\n",
       "      <td>0.464208</td>\n",
       "      <td>8802.219727</td>\n",
       "      <td>8991.509766</td>\n",
       "      <td>0.021505</td>\n",
       "    </tr>\n",
       "    <tr>\n",
       "      <th>2021</th>\n",
       "      <td>12950.219727</td>\n",
       "      <td>16320.080078</td>\n",
       "      <td>0.260216</td>\n",
       "      <td>12950.219727</td>\n",
       "      <td>12925.379883</td>\n",
       "      <td>-0.001918</td>\n",
       "    </tr>\n",
       "    <tr>\n",
       "      <th>2022</th>\n",
       "      <td>16395.509766</td>\n",
       "      <td>10939.759766</td>\n",
       "      <td>-0.332759</td>\n",
       "      <td>16395.509766</td>\n",
       "      <td>14930.049805</td>\n",
       "      <td>-0.089382</td>\n",
       "    </tr>\n",
       "  </tbody>\n",
       "</table>\n",
       "</div>"
      ],
      "text/plain": [
       "       Open_Yearly  Close_Yearly  return_Yearly      Open_Jan     Close_Jan  \\\n",
       "Date                                                                          \n",
       "2000   3755.739990   2341.699951      -0.376501   3755.739990   3570.050049   \n",
       "2001   2341.280029   1577.050049      -0.326415   2341.280029   2593.000000   \n",
       "2002   1590.709961    984.369995      -0.381176   1590.709961   1550.170044   \n",
       "2003    995.640015   1467.920044       0.474348    995.640015    983.049988   \n",
       "2004   1474.160034   1621.119995       0.099691   1474.160034   1493.079956   \n",
       "2005   1628.750000   1645.199951       0.010100   1628.750000   1519.630005   \n",
       "2006   1654.390015   1756.900024       0.061962   1654.390015   1710.750000   \n",
       "2007   1769.219971   2084.929932       0.178446   1769.219971   1792.280029   \n",
       "2008   2085.530029   1211.650024      -0.419021   2085.530029   1841.420044   \n",
       "2009   1212.739990   1860.310059       0.533973   1212.739990   1180.250000   \n",
       "2010   1882.689941   2217.860107       0.178027   1882.689941   1741.040039   \n",
       "2011   2238.659912   2277.830078       0.017497   2238.659912   2281.909912   \n",
       "2012   2323.159912   2660.929932       0.145392   2323.159912   2467.949951   \n",
       "2013   2727.669922   3592.000000       0.316875   2727.669922   2731.530029   \n",
       "2014   3575.600098   4236.279785       0.184774   3575.600098   3521.919922   \n",
       "2015   4258.600098   4593.270020       0.078587   4258.600098   4148.430176   \n",
       "2016   4485.060059   4863.620117       0.084405   4485.060059   4279.169922   \n",
       "2017   4900.850098   6396.419922       0.305165   4900.850098   5116.770020   \n",
       "2018   6431.589844   6329.970215      -0.015800   6431.589844   6949.990234   \n",
       "2019   6198.680176   8733.070312       0.408860   6198.680176   6906.839844   \n",
       "2020   8802.219727  12888.280273       0.464208   8802.219727   8991.509766   \n",
       "2021  12950.219727  16320.080078       0.260216  12950.219727  12925.379883   \n",
       "2022  16395.509766  10939.759766      -0.332759  16395.509766  14930.049805   \n",
       "\n",
       "      return_jan  \n",
       "Date              \n",
       "2000   -0.049442  \n",
       "2001    0.107514  \n",
       "2002   -0.025485  \n",
       "2003   -0.012645  \n",
       "2004    0.012834  \n",
       "2005   -0.066996  \n",
       "2006    0.034067  \n",
       "2007    0.013034  \n",
       "2008   -0.117049  \n",
       "2009   -0.026791  \n",
       "2010   -0.075238  \n",
       "2011    0.019320  \n",
       "2012    0.062325  \n",
       "2013    0.001415  \n",
       "2014   -0.015013  \n",
       "2015   -0.025870  \n",
       "2016   -0.045906  \n",
       "2017    0.044058  \n",
       "2018    0.080602  \n",
       "2019    0.114244  \n",
       "2020    0.021505  \n",
       "2021   -0.001918  \n",
       "2022   -0.089382  "
      ]
     },
     "execution_count": 16,
     "metadata": {},
     "output_type": "execute_result"
    }
   ],
   "source": [
    "df"
   ]
  },
  {
   "cell_type": "code",
   "execution_count": 17,
   "id": "edbd8f27",
   "metadata": {},
   "outputs": [
    {
     "data": {
      "text/plain": [
       "11"
      ]
     },
     "execution_count": 17,
     "metadata": {},
     "output_type": "execute_result"
    }
   ],
   "source": [
    "(df.return_jan>0).sum()"
   ]
  },
  {
   "cell_type": "code",
   "execution_count": 18,
   "id": "7eade24d",
   "metadata": {},
   "outputs": [
    {
     "data": {
      "text/plain": [
       "17"
      ]
     },
     "execution_count": 18,
     "metadata": {},
     "output_type": "execute_result"
    }
   ],
   "source": [
    "(df.return_Yearly>0).sum()"
   ]
  },
  {
   "cell_type": "markdown",
   "id": "d34b0545",
   "metadata": {},
   "source": [
    "# 3. Model"
   ]
  },
  {
   "cell_type": "code",
   "execution_count": 19,
   "id": "ad5fce7e",
   "metadata": {},
   "outputs": [],
   "source": [
    "import numpy as np\n",
    "from sklearn.linear_model import LinearRegression"
   ]
  },
  {
   "cell_type": "code",
   "execution_count": 20,
   "id": "88eaba7d",
   "metadata": {},
   "outputs": [],
   "source": [
    "from sklearn import datasets, linear_model\n",
    "from sklearn.metrics import mean_squared_error, r2_score"
   ]
  },
  {
   "cell_type": "markdown",
   "id": "618082b7",
   "metadata": {},
   "source": [
    "## 3.1. Model Positive Jan Months"
   ]
  },
  {
   "cell_type": "code",
   "execution_count": 21,
   "id": "448d677d",
   "metadata": {},
   "outputs": [],
   "source": [
    "x_train=df[[\"return_jan\"]]\n",
    "y_train=df.return_Yearly.values"
   ]
  },
  {
   "cell_type": "code",
   "execution_count": 22,
   "id": "f96eec44",
   "metadata": {},
   "outputs": [],
   "source": [
    "reg = LinearRegression().fit(x_train,y_train)"
   ]
  },
  {
   "cell_type": "code",
   "execution_count": 23,
   "id": "accfb1f4",
   "metadata": {},
   "outputs": [
    {
     "name": "stderr",
     "output_type": "stream",
     "text": [
      "C:\\Users\\pcalatayud\\anaconda3\\lib\\site-packages\\sklearn\\base.py:450: UserWarning:\n",
      "\n",
      "X does not have valid feature names, but LinearRegression was fitted with feature names\n",
      "\n"
     ]
    }
   ],
   "source": [
    "result = reg.predict([[nasdaq_performance_2023]])"
   ]
  },
  {
   "cell_type": "code",
   "execution_count": 24,
   "id": "c9279062",
   "metadata": {},
   "outputs": [],
   "source": [
    "y_pred = reg.predict(x_train)"
   ]
  },
  {
   "cell_type": "code",
   "execution_count": 25,
   "id": "ccf1d9d2",
   "metadata": {},
   "outputs": [
    {
     "name": "stdout",
     "output_type": "stream",
     "text": [
      "For a January pct_change of 11.21 % it is expected a year returns of:  25.467405057712078 %.\n"
     ]
    }
   ],
   "source": [
    "print(f\"For a January pct_change of {nasdaq_performance_2023*100} % it is expected a year returns of: \", result[0]*100 ,\"%.\")"
   ]
  },
  {
   "cell_type": "code",
   "execution_count": 26,
   "id": "27917527",
   "metadata": {},
   "outputs": [
    {
     "name": "stdout",
     "output_type": "stream",
     "text": [
      "That estimates a nasdaq price of 13725.832697477332\n"
     ]
    }
   ],
   "source": [
    "print(\"That estimates a nasdaq price of\",current_price*(1+result[0]))"
   ]
  },
  {
   "cell_type": "code",
   "execution_count": 27,
   "id": "8cc5bd59",
   "metadata": {},
   "outputs": [
    {
     "name": "stdout",
     "output_type": "stream",
     "text": [
      "Coefficients: \n",
      " [1.49158909]\n",
      "Mean squared error: 0.08\n"
     ]
    },
    {
     "data": {
      "image/png": "[encoded data removed]",
      "text/plain": [
       "<Figure size 1080x720 with 1 Axes>"
      ]
     },
     "metadata": {},
     "output_type": "display_data"
    }
   ],
   "source": [
    "plt.figure(figsize=(15,10))\n",
    "# The coefficients\n",
    "print(\"Coefficients: \\n\", reg.coef_)\n",
    "# The mean squared error\n",
    "print(\"Mean squared error: %.2f\" % mean_squared_error(x_train, y_train))\n",
    "# The coefficient of determination: 1 is perfect prediction\n",
    "#print(\"Coefficient of determination: %.2f\" % r2_score(diabetes_y_test, diabetes_y_pred))\n",
    "\n",
    "plt.title(\"January Returns vs Yearly Returns\")\n",
    "# Plot outputs\n",
    "plt.scatter(x_train, y_train, color=\"black\")\n",
    "\n",
    "plt.plot(x_train, y_pred, color=\"blue\", linewidth=3)\n",
    "\n",
    "plt.plot(nasdaq_performance_2023, result, color=\"red\", marker=\"o\")\n",
    "\n",
    "plt.xlabel(\"January Returns\",fontsize=16)\n",
    "\n",
    "plt.ylabel(\"Yearly Returns\",fontsize=16)\n",
    "#plt.xticks((x_train))\n",
    "#plt.yticks((y_train))\n",
    "\n",
    "plt.show()"
   ]
  },
  {
   "cell_type": "code",
   "execution_count": 28,
   "id": "cbe541f6",
   "metadata": {},
   "outputs": [],
   "source": [
    "#INTERESTING CONCLUSIONS\n",
    "\n",
    "#just one year where january returns where above 0, there was a painful year"
   ]
  },
  {
   "cell_type": "code",
   "execution_count": null,
   "id": "7f022f02",
   "metadata": {},
   "outputs": [],
   "source": []
  },
  {
   "cell_type": "code",
   "execution_count": null,
   "id": "90569b6f",
   "metadata": {},
   "outputs": [],
   "source": []
  },
  {
   "cell_type": "code",
   "execution_count": null,
   "id": "8309b21c",
   "metadata": {},
   "outputs": [],
   "source": []
  },
  {
   "cell_type": "code",
   "execution_count": null,
   "id": "986fb393",
   "metadata": {},
   "outputs": [],
   "source": []
  },
  {
   "cell_type": "code",
   "execution_count": null,
   "id": "25641813",
   "metadata": {},
   "outputs": [],
   "source": []
  }
 ],
 "metadata": {
  "kernelspec": {
   "display_name": "Python 3 (ipykernel)",
   "language": "python",
   "name": "python3"
  },
  "language_info": {
   "codemirror_mode": {
    "name": "ipython",
    "version": 3
   },
   "file_extension": ".py",
   "mimetype": "text/x-python",
   "name": "python",
   "nbconvert_exporter": "python",
   "pygments_lexer": "ipython3",
   "version": "3.9.7"
  }
 },
 "nbformat": 4,
 "nbformat_minor": 5
}
